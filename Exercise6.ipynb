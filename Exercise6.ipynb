{
 "cells": [
  {
   "cell_type": "code",
   "execution_count": 2,
   "id": "7c10607e-24f6-4cc5-ae6d-15e85ddeebd9",
   "metadata": {},
   "outputs": [
    {
     "name": "stdin",
     "output_type": "stream",
     "text": [
      "Enter the list: 1\n"
     ]
    },
    {
     "name": "stdout",
     "output_type": "stream",
     "text": [
      "0    1\n",
      "dtype: int64\n"
     ]
    }
   ],
   "source": [
    "import pandas as pd\n",
    "l1 = [int(i) for i in input(\"Enter the list:\").split()]\n",
    "x = pd.Series(l1)\n",
    "print(x)"
   ]
  },
  {
   "cell_type": "code",
   "execution_count": 2,
   "id": "65527442-861f-4d82-8f8b-ba68c05c93a1",
   "metadata": {},
   "outputs": [
    {
     "name": "stdout",
     "output_type": "stream",
     "text": [
      "DatetimeIndex(['2021-05-01', '2021-05-02', '2021-05-03', '2021-05-04',\n",
      "               '2021-05-05', '2021-05-06', '2021-05-07', '2021-05-08',\n",
      "               '2021-05-09', '2021-05-10', '2021-05-11', '2021-05-12'],\n",
      "              dtype='datetime64[ns]', freq='D')\n"
     ]
    }
   ],
   "source": [
    "dt = pd.date_range(start = '05-01-2021', end = '05-12-2021')\n",
    "print(dt)"
   ]
  },
  {
   "cell_type": "code",
   "execution_count": 3,
   "id": "2072329c-3107-4b70-b82c-8377435d9866",
   "metadata": {},
   "outputs": [
    {
     "name": "stdout",
     "output_type": "stream",
     "text": [
      "     name  age         occ\n",
      "0   Vinay   22    engineer\n",
      "1  Kushal   25      doctor\n",
      "2    Aman   24  accountant\n"
     ]
    }
   ],
   "source": [
    "dictionary = {'name': ['Vinay', 'Kushal', 'Aman'],\n",
    "              'age' : [22, 25, 24],\n",
    "              'occ' : ['engineer', 'doctor', 'accountant']}\n",
    "\n",
    "df = pd.DataFrame(dictionary)\n",
    "print(df)"
   ]
  },
  {
   "cell_type": "code",
   "execution_count": 4,
   "id": "6f60f5bc-4581-4beb-a995-9f3615363609",
   "metadata": {},
   "outputs": [
    {
     "name": "stdout",
     "output_type": "stream",
     "text": [
      "   id    name  age\n",
      "0   2  Vishal   22\n",
      "1   1  Kushal   25\n",
      "2   1    Aman   24\n"
     ]
    }
   ],
   "source": [
    "lists = [[2, 'Vishal', 22],\n",
    "         [1, 'Kushal', 25],\n",
    "         [1, 'Aman', 24]]\n",
    "\n",
    "df = pd.DataFrame(lists, columns = ['id', 'name', 'age'])\n",
    "\n",
    "print(df)"
   ]
  },
  {
   "cell_type": "code",
   "execution_count": 25,
   "id": "b8c58110-6a35-48eb-a811-7616a06be1ea",
   "metadata": {},
   "outputs": [
    {
     "name": "stdout",
     "output_type": "stream",
     "text": [
      "   id    name  age         occ  salary\n",
      "0   3   Vinay   22    engineer   60000\n",
      "1   1  Kushal   25      doctor   70000\n",
      "2   3    Aman   24  accountant   50000\n",
      "3   2   Rahul   27      doctor   60000\n",
      "4   1  Ramesh   31      doctor   65000\n"
     ]
    }
   ],
   "source": [
    "df = pd.read_csv('data.csv')\n",
    "print(df)"
   ]
  },
  {
   "cell_type": "code",
   "execution_count": 15,
   "id": "13e4bec0-3176-4154-b081-3f7e724cb061",
   "metadata": {},
   "outputs": [
    {
     "name": "stdout",
     "output_type": "stream",
     "text": [
      "   id    name  age         occ\n",
      "0   3   Vinay   22    engineer\n",
      "1   1  Kushal   25      doctor\n",
      "2   3    Aman   24  accountant\n",
      "\n",
      "   id    name  age         occ\n",
      "1   1  Kushal   25      doctor\n",
      "0   3   Vinay   22    engineer\n",
      "2   3    Aman   24  accountant\n"
     ]
    }
   ],
   "source": [
    "print(df) \n",
    "\n",
    "df_sorted = df.sort_values(by = ['id', 'age']) \n",
    "print()\n",
    "print(df_sorted)"
   ]
  },
  {
   "cell_type": "code",
   "execution_count": 17,
   "id": "18ad235b-34b4-4a36-8a76-7f2529ce6d0b",
   "metadata": {},
   "outputs": [
    {
     "name": "stdout",
     "output_type": "stream",
     "text": [
      "   id    name  age         occ\n",
      "0   3   Vinay   22    engineer\n",
      "1   1  Kushal   25      doctor\n",
      "2   3    Aman   24  accountant\n",
      "        id  age         occ\n",
      "name                       \n",
      "Vinay    3   22    engineer\n",
      "Kushal   1   25      doctor\n",
      "Aman     3   24  accountant\n",
      "     name  id  age         occ\n",
      "0   Vinay   3   22    engineer\n",
      "1  Kushal   1   25      doctor\n",
      "2    Aman   3   24  accountant\n"
     ]
    }
   ],
   "source": [
    "print(df)\n",
    "\n",
    "df_customindex = df.set_index('name')\n",
    "\n",
    "print(df_customindex)\n",
    "\n",
    "df = df_customindex.reset_index()\n",
    "\n",
    "print(df) "
   ]
  },
  {
   "cell_type": "code",
   "execution_count": 19,
   "id": "f8288887-aa67-4b99-badc-13627c5d9018",
   "metadata": {},
   "outputs": [
    {
     "name": "stdout",
     "output_type": "stream",
     "text": [
      "     name  id  age         occ\n",
      "0   Vinay   3   22    engineer\n",
      "1  Kushal   1   25      doctor\n",
      "2    Aman   3   24  accountant\n",
      "\n",
      "     name  id  age       occ\n",
      "0   Vinay   3   22  engineer\n",
      "1  Kushal   1   25    doctor\n"
     ]
    }
   ],
   "source": [
    "print(df) \n",
    "o = df.iloc[[0,1], :] \n",
    "print()\n",
    "print(o)"
   ]
  },
  {
   "cell_type": "code",
   "execution_count": 26,
   "id": "672652ae-1593-49ae-b023-07b8cb0c5172",
   "metadata": {},
   "outputs": [
    {
     "name": "stdout",
     "output_type": "stream",
     "text": [
      "   id    name  age         occ  salary\n",
      "0   3   Vinay   22    engineer   60000\n",
      "1   1  Kushal   25      doctor   70000\n",
      "2   3    Aman   24  accountant   50000\n",
      "3   2   Rahul   27      doctor   60000\n",
      "4   1  Ramesh   31      doctor   65000\n",
      "occ\n",
      "accountant    50000.0\n",
      "doctor        65000.0\n",
      "engineer      60000.0\n",
      "Name: salary, dtype: float64\n"
     ]
    }
   ],
   "source": [
    "print(df) \n",
    "avg = df.groupby('occ')['salary'].mean()\n",
    "print(avg)"
   ]
  },
  {
   "cell_type": "code",
   "execution_count": 29,
   "id": "96862ca0-7287-4e06-879d-aaa5d9c90d25",
   "metadata": {},
   "outputs": [
    {
     "name": "stdout",
     "output_type": "stream",
     "text": [
      "     name   age         occ   salary\n",
      "0   Vinay   NaN    engineer  65000.0\n",
      "1  Kushal  25.0      doctor      NaN\n",
      "2    Aman  24.0  accountant  50000.0\n",
      "\n",
      "     name   age         occ   salary\n",
      "0   Vinay   0.0    engineer  65000.0\n",
      "1  Kushal  25.0      doctor      0.0\n",
      "2    Aman  24.0  accountant  50000.0\n"
     ]
    }
   ],
   "source": [
    "dictionary = {'name': ['Vinay', 'Kushal', 'Aman'],\n",
    "              'age' : [None, 25, 24],\n",
    "              'occ' : ['engineer', 'doctor', 'accountant'],\n",
    "              'salary' : [65000,None,50000]}\n",
    "df = pd.DataFrame(dictionary)\n",
    "print(df)\n",
    "print()\n",
    "df_nullfill = df.fillna(0)\n",
    "\n",
    "print(df_nullfill)"
   ]
  },
  {
   "cell_type": "code",
   "execution_count": 5,
   "id": "3abc5153-d801-405e-b40e-520aea89fd24",
   "metadata": {},
   "outputs": [
    {
     "name": "stdout",
     "output_type": "stream",
     "text": [
      "                cname  profit\n",
      "0         Shyam & Co.  -10000\n",
      "1      Ramlal & Bros.   10000\n",
      "2  Sharma Enterprises   -5000\n",
      "3    Verma Furnitures   15000\n",
      "4        Rahul Stores   20000\n",
      "\n",
      "                cname  profit\n",
      "0         Shyam & Co.   False\n",
      "1      Ramlal & Bros.    True\n",
      "2  Sharma Enterprises   False\n",
      "3    Verma Furnitures    True\n",
      "4        Rahul Stores    True\n"
     ]
    }
   ],
   "source": [
    "data = {'cname' : ['Shyam & Co.','Ramlal & Bros.','Sharma Enterprises','Verma Furnitures','Rahul Stores'] ,\n",
    "                'profit' : [-10000,10000,-5000,15000,20000]}\n",
    "company_data = pd.DataFrame(data)\n",
    "print(company_data)\n",
    "print()\n",
    "company_data['profit'] = company_data['profit'].apply(lambda x:x>0)\n",
    "print(company_data)"
   ]
  },
  {
   "cell_type": "code",
   "execution_count": 9,
   "id": "a62ad894-2f6f-4072-9cb2-2dda66b679dd",
   "metadata": {},
   "outputs": [
    {
     "name": "stdout",
     "output_type": "stream",
     "text": [
      "   eid   ename  stipend\n",
      "0    1     Sid    10000\n",
      "1    2  Ramesh    10000\n",
      "2    3     Ron     5000\n",
      "3    4   Harry    15000\n",
      "\n",
      "   eid         position\n",
      "0    1         employee\n",
      "1    2         employee\n",
      "2    3           intern\n",
      "3    4  senior employee\n",
      "\n",
      "   eid   ename  stipend         position\n",
      "0    1     Sid    10000         employee\n",
      "1    2  Ramesh    10000         employee\n",
      "2    3     Ron     5000           intern\n",
      "3    4   Harry    15000  senior employee\n"
     ]
    }
   ],
   "source": [
    "emp = {'eid' : [1,2,3,4],\n",
    "       'ename' : ['Sid','Ramesh','Ron','Harry'],\n",
    "       'stipend' : [10000,10000,5000,15000]}\n",
    "\n",
    "company = {'eid':[1,2,3,4],\n",
    "           'position' : ['employee','employee','intern','senior employee']}\n",
    "\n",
    "emp_data = pd.DataFrame(emp)\n",
    "company_data = pd.DataFrame(company)\n",
    "print(emp_data)\n",
    "print()\n",
    "print(company_data)\n",
    "print()\n",
    "\n",
    "df = pd.merge(emp_data,company_data,how='inner',on='eid')\n",
    "print(df)"
   ]
  },
  {
   "cell_type": "code",
   "execution_count": null,
   "id": "5919e685-6aa2-474f-aa78-c44d7878e079",
   "metadata": {},
   "outputs": [],
   "source": []
  }
 ],
 "metadata": {
  "kernelspec": {
   "display_name": "Python 3 (ipykernel)",
   "language": "python",
   "name": "python3"
  },
  "language_info": {
   "codemirror_mode": {
    "name": "ipython",
    "version": 3
   },
   "file_extension": ".py",
   "mimetype": "text/x-python",
   "name": "python",
   "nbconvert_exporter": "python",
   "pygments_lexer": "ipython3",
   "version": "3.9.12"
  }
 },
 "nbformat": 4,
 "nbformat_minor": 5
}
